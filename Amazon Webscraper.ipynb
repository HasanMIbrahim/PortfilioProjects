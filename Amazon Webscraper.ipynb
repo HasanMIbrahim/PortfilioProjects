{
 "cells": [
  {
   "cell_type": "code",
   "execution_count": 11,
   "metadata": {},
   "outputs": [],
   "source": [
    "from bs4 import BeautifulSoup\n",
    "import requests\n",
    "import time\n",
    "import smtplib\n",
    "from datetime import datetime\n",
    "import lxml\n",
    "from selenium import webdriver\n",
    "from selenium.webdriver.chrome.service import Service as ChromeService\n",
    "from selenium.webdriver.common.by import By"
   ]
  },
  {
   "cell_type": "code",
   "execution_count": 12,
   "metadata": {},
   "outputs": [
    {
     "name": "stdout",
     "output_type": "stream",
     "text": [
      "Product Title: 3 Pairs Rimless Rectangle Sunglasses Tinted Frameless Eyewear Vintage Transparent Rectangle Y2K Glasses for Women Men\n",
      "Product Price: 12.99\n"
     ]
    }
   ],
   "source": [
    "#connect to website\n",
    "\n",
    "\n",
    "chrome_path = 'C:\\\\Users\\\\Owner\\\\Downloads\\\\chromedriver-win64\\\\chromedriver-win64\\\\chromedriver.exe'\n",
    "URL = 'https://www.amazon.com/Rimless-Rectangle-Sunglasses-Frameless-Transparent/dp/B08DY38FWV/ref=sr_1_2?crid=C3HW0KVYWQSK&dib=eyJ2IjoiMSJ9.PeGKnqArS8ESk5YfA5qZm_ZydqL5ydfLPOCIqSpk-xbraCqd5DZ043QLX1drWUMu-QBNWrS0pGg6NSc-blmn6FaHE2dhTgITp_84XrsGvbWQ2CQ_3-7EfjQ7iHYv6Q2J2GQqSMODgL2pQkkf67q4b5DQ0argKllaSYbOx9s0jCUCLrtpqZFqKonenWoJPboS8lKQpIV3YWF_Ewz-c4SxY0bUKyczjIkpTMvNpq_0V3B-DqmRJH9C-jG7ZxMGuPys2gPfUQ_W6NM_TrW1BBM6lw-r1twxqHNNd9eVokPs4EA.v5n43dY6TbIrNp7BHpXdTlY86pgpDeJNXFz8KaY2JK4&dib_tag=se&keywords=sunglasses+cartier&qid=1709683299&sprefix=sunglasses+cartei%2Caps%2C106&sr=8-2'\n",
    "headers ={'User-Agent': 'Mozilla/5.0 (Windows NT 10.0; Win64; x64) AppleWebKit/537.36 (KHTML, like Gecko) Chrome/122.0.0.0 Safari/537.36'\n",
    "}\n",
    "\n",
    "\n",
    "\n",
    "# Set up the Selenium Chrome webdriver\n",
    "chrome_options = webdriver.ChromeOptions()\n",
    "chrome_options.add_argument('--headless')  # Run Chrome in headless mode (no GUI)\n",
    "driver = webdriver.Chrome(service=ChromeService(executable_path=chrome_path), options=chrome_options)\n",
    "\n",
    "# Open the URL in the browser\n",
    "driver.get(URL)\n",
    "\n",
    "\n",
    "# Get the HTML content of the page\n",
    "html_content = driver.page_source\n",
    "\n",
    "\n",
    "\n",
    "\n",
    "# Wait for some time to ensure the dynamic content is loaded (you might need to adjust this)\n",
    "driver.implicitly_wait(10)\n",
    "\n",
    "# Close the browser\n",
    "driver.quit()\n",
    "\n",
    "\n",
    "page = requests.get(URL, headers=headers)\n",
    "\n",
    "#scraping DOC HTML\n",
    "soup = BeautifulSoup(html_content, 'html.parser')\n",
    "soup2 = BeautifulSoup(soup.prettify(), \"html.parser\")\n",
    "\n",
    "\n",
    "\n",
    "\n",
    "# Find and print the product title\n",
    "title_element = soup2.find('span', {'id': 'productTitle'} ) or soup2.find('h1', {'id': 'title'})\n",
    "if title_element:\n",
    "    title = title_element.get_text(strip=True)\n",
    "    print(\"Product Title:\", title)\n",
    "else:\n",
    "    print(\"Title not found on the page.\")\n",
    "\n",
    "\n",
    "# Find the price of the product (replace with correct IDs)\n",
    "price_whole = soup2.find('span', {'class': 'a-price-whole'})\n",
    "price_fraction = soup2.find('span', {'class': 'a-price-fraction'})\n",
    "\n",
    "# Extract the text from the price components\n",
    "whole_text = price_whole.get_text(strip=True) if price_whole else ''\n",
    "fraction_text = price_fraction.get_text(strip=True) if price_fraction else ''\n",
    "\n",
    "# Check if both components are present\n",
    "if whole_text and fraction_text:\n",
    "    # Concatenate the whole and fractional parts with a dot\n",
    "    price = f\"{whole_text}{fraction_text}\"\n",
    "    print(\"Product Price:\", price)\n",
    "else:\n",
    "    print(\"Price not found on the page.\")\n",
    " \n",
    "     \n"
   ]
  },
  {
   "cell_type": "code",
   "execution_count": 13,
   "metadata": {},
   "outputs": [
    {
     "name": "stdout",
     "output_type": "stream",
     "text": [
      "2024-03-06\n"
     ]
    }
   ],
   "source": [
    "import datetime\n",
    "today = datetime.date.today()\n",
    "print(today)"
   ]
  },
  {
   "cell_type": "code",
   "execution_count": 14,
   "metadata": {},
   "outputs": [],
   "source": [
    "import csv\n",
    "header = ['Title', 'Price','Date']\n",
    "data = [title, price, today]\n",
    "type(data)\n",
    " # inserting data into csv\n",
    "\n",
    "import os\n",
    "\n",
    "# Specify the directory and file name\n",
    "directory = 'C:\\\\Users\\\\Owner\\\\Documents\\\\Projects\\\\Amazon WebScraping Project\\\\'\n",
    "file_name = 'AmazonWebScrapingData.csv'\n",
    "\n",
    "# Create the directory if it doesn't exist\n",
    "os.makedirs(directory, exist_ok=True)\n",
    "\n",
    "# Create the file path\n",
    "file_path = os.path.join(directory, file_name)\n",
    "\n",
    " #Write to the CSV file\n",
    "with open(file_path, 'wt', newline='', encoding='UTF8') as f:\n",
    "    writer = csv.writer(f)\n",
    "    writer.writerow(header)\n",
    "    writer.writerow(data)\n"
   ]
  },
  {
   "cell_type": "code",
   "execution_count": 15,
   "metadata": {},
   "outputs": [],
   "source": [
    "\n",
    "\n",
    "# Append data to CSV\n",
    "with open(file_path, 'a+', newline='', encoding='UTF8') as f:\n",
    "    # Move the cursor to the beginning of the file\n",
    "    f.seek(0)\n",
    "\n",
    "    # Create a CSV reader to check if the file is empty\n",
    "    reader = csv.reader(f)\n",
    "    \n",
    "    # If the file is empty, write the header\n",
    "    if not any(reader):\n",
    "        # Create a CSV writer\n",
    "        writer = csv.writer(f)\n",
    "        writer.writerow(header)\n",
    "\n",
    "    # No need to seek to the end when using 'a+'; the cursor is already there\n",
    "    # Write the new data\n",
    "    f.write(','.join(map(str, data)) + '\\n')\n"
   ]
  },
  {
   "cell_type": "code",
   "execution_count": 19,
   "metadata": {},
   "outputs": [],
   "source": [
    "\n",
    "\n",
    "\n",
    "def check_price(file_path):\n",
    "\n",
    "    URL = 'https://www.amazon.com/Rimless-Rectangle-Sunglasses-Frameless-Transparent/dp/B08DY38FWV/ref=sr_1_2?crid=C3HW0KVYWQSK&dib=eyJ2IjoiMSJ9.PeGKnqArS8ESk5YfA5qZm_ZydqL5ydfLPOCIqSpk-xbraCqd5DZ043QLX1drWUMu-QBNWrS0pGg6NSc-blmn6FaHE2dhTgITp_84XrsGvbWQ2CQ_3-7EfjQ7iHYv6Q2J2GQqSMODgL2pQkkf67q4b5DQ0argKllaSYbOx9s0jCUCLrtpqZFqKonenWoJPboS8lKQpIV3YWF_Ewz-c4SxY0bUKyczjIkpTMvNpq_0V3B-DqmRJH9C-jG7ZxMGuPys2gPfUQ_W6NM_TrW1BBM6lw-r1twxqHNNd9eVokPs4EA.v5n43dY6TbIrNp7BHpXdTlY86pgpDeJNXFz8KaY2JK4&dib_tag=se&keywords=sunglasses+cartier&qid=1709683299&sprefix=sunglasses+cartei%2Caps%2C106&sr=8-2'\n",
    "    headers ={'User-Agent': 'Mozilla/5.0 (Windows NT 10.0; Win64; x64) AppleWebKit/537.36 (KHTML, like Gecko) Chrome/122.0.0.0 Safari/537.36'}  \n",
    "    page = requests.get(URL, headers=headers)\n",
    "    soup = BeautifulSoup(html_content, 'html.parser')\n",
    "    soup2 = BeautifulSoup(soup.prettify(), \"html.parser\")\n",
    "    title_element = soup2.find('span', {'id': 'productTitle'} ) or soup2.find('h1', {'id': 'title'})\n",
    "    if title_element:\n",
    "        title = title_element.get_text(strip=True)\n",
    "        print(\"Product Title:\", title)\n",
    "    else:\n",
    "         print(\"Title not found on the page.\")\n",
    "    price_whole = soup2.find('span', {'class': 'a-price-whole'})\n",
    "    price_fraction = soup2.find('span', {'class': 'a-price-fraction'})\n",
    "    whole_text = price_whole.get_text(strip=True) if price_whole else ''\n",
    "    fraction_text = price_fraction.get_text(strip=True) if price_fraction else ''\n",
    "    \n",
    "    if whole_text and fraction_text:\n",
    "    # Concatenate the whole and fractional parts with a dot\n",
    "     price = f\"{whole_text}{fraction_text}\"\n",
    "     print(\"Product Price:\", price)\n",
    "    else:\n",
    "     print(\"Price not found on the page.\")\n",
    " \n",
    "\n",
    "\n",
    "    import datetime\n",
    "    today = datetime.date.today()\n",
    "    import csv\n",
    "    header = ['Title', 'Price','Date']\n",
    "    data = [title, price, today]\n",
    "\n",
    "    with open(file_path, 'a+', newline='', encoding='UTF8') as f:\n",
    "     f.seek(0)\n",
    "     reader = csv.reader(f)\n",
    "     if not any(reader):\n",
    "        writer = csv.writer(f)\n",
    "        writer.writerow(header)\n",
    "     f.write(','.join(map(str, data)) + '\\n')\n",
    "    \n",
    "    \n",
    "\n",
    "\n",
    "    \n"
   ]
  },
  {
   "cell_type": "code",
   "execution_count": 20,
   "metadata": {},
   "outputs": [
    {
     "name": "stdout",
     "output_type": "stream",
     "text": [
      "Product Title: 3 Pairs Rimless Rectangle Sunglasses Tinted Frameless Eyewear Vintage Transparent Rectangle Y2K Glasses for Women Men\n",
      "Product Price: 12.99\n"
     ]
    }
   ],
   "source": [
    "\n",
    "\n",
    "# Automate the process, once every 24 hours approx. Define the duration for the loop (in seconds)\n",
    "duration = 24 * 60 * 60\n",
    "start_time = time.time()\n",
    "try: \n",
    " while time.time() - start_time < duration:\n",
    "    with open(file_path, 'a+', newline='', encoding='UTF8') as f:\n",
    "        f.seek(0)\n",
    "        reader = csv.reader(f)\n",
    "\n",
    "        # Read the file and check if it's empty\n",
    "        if not any(reader):\n",
    "            header = ['Title', 'Price', 'Date']\n",
    "            writer = csv.writer(f)\n",
    "            writer.writerow(header)\n",
    "\n",
    "        # Call the check_price function\n",
    "        check_price(file_path)\n",
    "\n",
    "      # Sleep for 24 hours\n",
    "    time.sleep(24 * 60 * 60)\n",
    "\n",
    "except KeyboardInterrupt:\n",
    "    print(\"Loop terminated by user.\")   \n",
    "\n"
   ]
  },
  {
   "cell_type": "code",
   "execution_count": 36,
   "metadata": {},
   "outputs": [
    {
     "name": "stdout",
     "output_type": "stream",
     "text": [
      "                                                Title  Price        Date\n",
      "0   3 Pairs Rimless Rectangle Sunglasses Tinted Fr...  12.99  2024-03-06\n",
      "1   3 Pairs Rimless Rectangle Sunglasses Tinted Fr...  12.99  2024-03-06\n",
      "2   3 Pairs Rimless Rectangle Sunglasses Tinted Fr...  12.99  2024-03-06\n",
      "3   3 Pairs Rimless Rectangle Sunglasses Tinted Fr...  12.99  2024-03-06\n",
      "4   3 Pairs Rimless Rectangle Sunglasses Tinted Fr...  12.99  2024-03-06\n",
      "5   3 Pairs Rimless Rectangle Sunglasses Tinted Fr...  12.99  2024-03-06\n",
      "6   3 Pairs Rimless Rectangle Sunglasses Tinted Fr...  12.99  2024-03-06\n",
      "7   3 Pairs Rimless Rectangle Sunglasses Tinted Fr...  12.99  2024-03-06\n",
      "8   3 Pairs Rimless Rectangle Sunglasses Tinted Fr...  12.99  2024-03-06\n",
      "9   3 Pairs Rimless Rectangle Sunglasses Tinted Fr...  12.99  2024-03-06\n",
      "10  3 Pairs Rimless Rectangle Sunglasses Tinted Fr...  12.99  2024-03-06\n",
      "11  3 Pairs Rimless Rectangle Sunglasses Tinted Fr...  12.99  2024-03-06\n"
     ]
    }
   ],
   "source": [
    "\n",
    "#Reads CSV files\n",
    "import pandas as pd\n",
    "df = pd.read_csv('C:\\\\Users\\\\Owner\\\\Documents\\\\Projects\\\\Amazon WebScraping Project\\\\AmazonWebScrapingData.csv')\n",
    "print(df)"
   ]
  }
 ],
 "metadata": {
  "kernelspec": {
   "display_name": "Python 3",
   "language": "python",
   "name": "python3"
  },
  "language_info": {
   "codemirror_mode": {
    "name": "ipython",
    "version": 3
   },
   "file_extension": ".py",
   "mimetype": "text/x-python",
   "name": "python",
   "nbconvert_exporter": "python",
   "pygments_lexer": "ipython3",
   "version": "3.12.2"
  }
 },
 "nbformat": 4,
 "nbformat_minor": 2
}
